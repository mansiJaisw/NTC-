{
 "cells": [
  {
   "cell_type": "markdown",
   "id": "fdc08d8e",
   "metadata": {},
   "source": [
    "# phthon Basic"
   ]
  },
  {
   "cell_type": "code",
   "execution_count": 5,
   "id": "2ac4bdbb",
   "metadata": {},
   "outputs": [
    {
     "name": "stdout",
     "output_type": "stream",
     "text": [
      "mansi\n"
     ]
    }
   ],
   "source": [
    "print(\"mansi\")"
   ]
  },
  {
   "cell_type": "code",
   "execution_count": 4,
   "id": "ab8eeb81",
   "metadata": {},
   "outputs": [
    {
     "name": "stdout",
     "output_type": "stream",
     "text": [
      "121\n"
     ]
    }
   ],
   "source": [
    "var1 = 78\n",
    "var2 = 43\n",
    "var3 = var1 + var2\n",
    "print(var3)\n"
   ]
  },
  {
   "cell_type": "code",
   "execution_count": 6,
   "id": "594dc955",
   "metadata": {},
   "outputs": [
    {
     "name": "stdout",
     "output_type": "stream",
     "text": [
      "23\n"
     ]
    }
   ],
   "source": [
    "v1= 99\n",
    "v2= 76\n",
    "v3= v1-v2\n",
    "print(v3)"
   ]
  },
  {
   "cell_type": "markdown",
   "id": "25250aef",
   "metadata": {},
   "source": [
    "# python variable"
   ]
  },
  {
   "cell_type": "code",
   "execution_count": 2,
   "id": "a938b051",
   "metadata": {},
   "outputs": [
    {
     "name": "stdout",
     "output_type": "stream",
     "text": [
      "python\n",
      "55\n",
      "87\n",
      "142\n"
     ]
    }
   ],
   "source": [
    "var1 = \"python\"\n",
    "a = 55\n",
    "b = 87\n",
    "print(var1)\n",
    "print(a)\n",
    "print(b)\n",
    "\n",
    "sum = a+b\n",
    "print(sum)"
   ]
  },
  {
   "cell_type": "code",
   "execution_count": 3,
   "id": "e7b4ff79",
   "metadata": {},
   "outputs": [
    {
     "name": "stdout",
     "output_type": "stream",
     "text": [
      "0.632183908045977\n"
     ]
    }
   ],
   "source": [
    "div = a/b\n",
    "print(div)"
   ]
  },
  {
   "cell_type": "markdown",
   "id": "57f21bf3",
   "metadata": {},
   "source": [
    "# python coding"
   ]
  },
  {
   "cell_type": "markdown",
   "id": "f2daa979",
   "metadata": {},
   "source": []
  },
  {
   "cell_type": "code",
   "execution_count": 7,
   "id": "158d358d",
   "metadata": {},
   "outputs": [
    {
     "name": "stdout",
     "output_type": "stream",
     "text": [
      "145.9\n",
      "33.900000000000006\n",
      "5034.400000000001\n",
      "1.605357142857143\n"
     ]
    }
   ],
   "source": [
    "#variable\n",
    "v1 = 89.9\n",
    "v2 =56\n",
    "v3 = v1 + v2\n",
    "print(v3)\n",
    "v4 = v1 - v2\n",
    "print(v4)\n",
    "v5 = v1*v2\n",
    "print(v5)\n",
    "v6 = v1/v2\n",
    "print(v6)"
   ]
  },
  {
   "cell_type": "code",
   "execution_count": 9,
   "id": "b7efa0f2",
   "metadata": {},
   "outputs": [
    {
     "name": "stdout",
     "output_type": "stream",
     "text": [
      "mansi\n",
      "100 ,1000 ,mansi\n",
      "55 , 87\n"
     ]
    }
   ],
   "source": [
    "count = 100\n",
    "km = 1000\n",
    "name = \"mansi\"\n",
    "print(name)\n",
    "print(count,km,name,sep = ' ,' )\n",
    "print(a,b,sep = ' , ')"
   ]
  },
  {
   "cell_type": "code",
   "execution_count": 10,
   "id": "1b4b5166",
   "metadata": {},
   "outputs": [
    {
     "data": {
      "text/plain": [
       "1"
      ]
     },
     "execution_count": 10,
     "metadata": {},
     "output_type": "execute_result"
    }
   ],
   "source": [
    "a=b=c=1\n",
    "\n",
    "a\n",
    "b\n",
    "c\n",
    "\n",
    "#print(a,b,c)"
   ]
  },
  {
   "cell_type": "code",
   "execution_count": 11,
   "id": "1d9570fb",
   "metadata": {},
   "outputs": [
    {
     "name": "stdout",
     "output_type": "stream",
     "text": [
      "1 1 1\n"
     ]
    }
   ],
   "source": [
    "a=b=c=1\n",
    "a\n",
    "b\n",
    "c\n",
    "print(a,b,c)"
   ]
  },
  {
   "cell_type": "code",
   "execution_count": 12,
   "id": "57d2bf47",
   "metadata": {},
   "outputs": [
    {
     "data": {
      "text/plain": [
       "67"
      ]
     },
     "execution_count": 12,
     "metadata": {},
     "output_type": "execute_result"
    }
   ],
   "source": [
    "x,y,z =55,23,67\n",
    "z"
   ]
  },
  {
   "cell_type": "code",
   "execution_count": 13,
   "id": "45b0df00",
   "metadata": {},
   "outputs": [],
   "source": [
    "del z"
   ]
  },
  {
   "cell_type": "code",
   "execution_count": 14,
   "id": "12d37888",
   "metadata": {},
   "outputs": [
    {
     "ename": "NameError",
     "evalue": "name 'z' is not defined",
     "output_type": "error",
     "traceback": [
      "\u001b[1;31m---------------------------------------------------------------------------\u001b[0m",
      "\u001b[1;31mNameError\u001b[0m                                 Traceback (most recent call last)",
      "Input \u001b[1;32mIn [14]\u001b[0m, in \u001b[0;36m<cell line: 1>\u001b[1;34m()\u001b[0m\n\u001b[1;32m----> 1\u001b[0m \u001b[43mz\u001b[49m\n",
      "\u001b[1;31mNameError\u001b[0m: name 'z' is not defined"
     ]
    }
   ],
   "source": [
    "z"
   ]
  },
  {
   "cell_type": "markdown",
   "id": "98aa4f5e",
   "metadata": {},
   "source": [
    "# data tyape\n",
    "numerical data type\n",
    "int \n",
    "float\n",
    "compplex"
   ]
  },
  {
   "cell_type": "code",
   "execution_count": 15,
   "id": "acc0e628",
   "metadata": {},
   "outputs": [
    {
     "name": "stdout",
     "output_type": "stream",
     "text": [
      "<class 'int'>\n",
      "<class 'float'>\n",
      "<class 'complex'>\n",
      "<class 'str'>\n",
      "<class 'bool'>\n"
     ]
    }
   ],
   "source": [
    "a=67\n",
    "b=99.999\n",
    "c=3.14j\n",
    "d=\"mansi\"\n",
    "e=True\n",
    "print(type(a))\n",
    "print(type(b))\n",
    "print(type(c))\n",
    "print(type(d))\n",
    "print(type(e))\n"
   ]
  },
  {
   "cell_type": "code",
   "execution_count": 16,
   "id": "90dbee00",
   "metadata": {},
   "outputs": [
    {
     "name": "stdout",
     "output_type": "stream",
     "text": [
      "Enter the value of x:78\n",
      "Enter the value of y:9\n"
     ]
    },
    {
     "data": {
      "text/plain": [
       "702"
      ]
     },
     "execution_count": 16,
     "metadata": {},
     "output_type": "execute_result"
    }
   ],
   "source": [
    "#how to take input from user\n",
    "\n",
    "#ask to user to enter the value of x and store in variable\n",
    "x = int(input(\"Enter the value of x:\"))\n",
    "\n",
    "#ask to user to enter the value of y and store in variable\n",
    "y = int(input(\"Enter the value of y:\"))\n",
    "\n",
    "# perform any mathematical operation on user input\n",
    "\n",
    "z= x*y\n",
    "\n",
    "# print the answer\n",
    "\n",
    "z\n",
    "a= x/y\n",
    "\n",
    "z"
   ]
  },
  {
   "cell_type": "markdown",
   "id": "34d95368",
   "metadata": {},
   "source": [
    "# string"
   ]
  },
  {
   "cell_type": "code",
   "execution_count": 17,
   "id": "0a4776e1",
   "metadata": {},
   "outputs": [
    {
     "data": {
      "text/plain": [
       "'i like python programing'"
      ]
     },
     "execution_count": 17,
     "metadata": {},
     "output_type": "execute_result"
    }
   ],
   "source": [
    "str1= \"i like python programing\"\n",
    "str1"
   ]
  },
  {
   "cell_type": "code",
   "execution_count": 18,
   "id": "2038d94e",
   "metadata": {},
   "outputs": [
    {
     "data": {
      "text/plain": [
       "' in jupyter'"
      ]
     },
     "execution_count": 18,
     "metadata": {},
     "output_type": "execute_result"
    }
   ],
   "source": [
    "str2 = \" in jupyter\"\n",
    "str2"
   ]
  },
  {
   "cell_type": "code",
   "execution_count": 19,
   "id": "76756969",
   "metadata": {},
   "outputs": [
    {
     "data": {
      "text/plain": [
       "'i like python programing in jupyter'"
      ]
     },
     "execution_count": 19,
     "metadata": {},
     "output_type": "execute_result"
    }
   ],
   "source": [
    "str3 =str1+str2\n",
    "str3"
   ]
  },
  {
   "cell_type": "code",
   "execution_count": 20,
   "id": "1eaf08ed",
   "metadata": {},
   "outputs": [
    {
     "name": "stdout",
     "output_type": "stream",
     "text": [
      "jaiswal\n",
      "7\n"
     ]
    }
   ],
   "source": [
    "#string indexing and slicing\n",
    "\n",
    "name = \"jaiswal\"\n",
    "print(name)\n",
    "print(len(name))"
   ]
  },
  {
   "cell_type": "code",
   "execution_count": 21,
   "id": "83e23759",
   "metadata": {},
   "outputs": [
    {
     "data": {
      "text/plain": [
       "'s'"
      ]
     },
     "execution_count": 21,
     "metadata": {},
     "output_type": "execute_result"
    }
   ],
   "source": [
    "name[-4]"
   ]
  },
  {
   "cell_type": "markdown",
   "id": "869f0274",
   "metadata": {},
   "source": []
  },
  {
   "cell_type": "code",
   "execution_count": 22,
   "id": "499247cb",
   "metadata": {},
   "outputs": [
    {
     "name": "stdout",
     "output_type": "stream",
     "text": [
      "24\n"
     ]
    }
   ],
   "source": [
    "var1 = \"my name is mansi jaiswal\"\n",
    "print(len(var1))"
   ]
  },
  {
   "cell_type": "code",
   "execution_count": 23,
   "id": "05553516",
   "metadata": {},
   "outputs": [
    {
     "data": {
      "text/plain": [
       "'y'"
      ]
     },
     "execution_count": 23,
     "metadata": {},
     "output_type": "execute_result"
    }
   ],
   "source": [
    "var1[-23]"
   ]
  },
  {
   "cell_type": "code",
   "execution_count": 24,
   "id": "61cc1a7d",
   "metadata": {},
   "outputs": [
    {
     "name": "stdout",
     "output_type": "stream",
     "text": [
      "29\n"
     ]
    }
   ],
   "source": [
    "name = \"hello world my name is mansi.\"\n",
    "print(len(name))"
   ]
  },
  {
   "cell_type": "code",
   "execution_count": 25,
   "id": "a8c642ca",
   "metadata": {},
   "outputs": [
    {
     "data": {
      "text/plain": [
       "'mansi.'"
      ]
     },
     "execution_count": 25,
     "metadata": {},
     "output_type": "execute_result"
    }
   ],
   "source": [
    "name[23:]"
   ]
  },
  {
   "cell_type": "code",
   "execution_count": 26,
   "id": "ffc3f6a1",
   "metadata": {},
   "outputs": [
    {
     "data": {
      "text/plain": [
       "' '"
      ]
     },
     "execution_count": 26,
     "metadata": {},
     "output_type": "execute_result"
    }
   ],
   "source": [
    "name[22]"
   ]
  },
  {
   "cell_type": "code",
   "execution_count": 27,
   "id": "b86407b6",
   "metadata": {},
   "outputs": [
    {
     "data": {
      "text/plain": [
       "'hello world '"
      ]
     },
     "execution_count": 27,
     "metadata": {},
     "output_type": "execute_result"
    }
   ],
   "source": [
    "name[:12]"
   ]
  },
  {
   "cell_type": "code",
   "execution_count": 28,
   "id": "ea5586a2",
   "metadata": {},
   "outputs": [
    {
     "data": {
      "text/plain": [
       "'o'"
      ]
     },
     "execution_count": 28,
     "metadata": {},
     "output_type": "execute_result"
    }
   ],
   "source": [
    "name[-22]"
   ]
  },
  {
   "cell_type": "code",
   "execution_count": 29,
   "id": "4b8a5ec1",
   "metadata": {},
   "outputs": [
    {
     "data": {
      "text/plain": [
       "''"
      ]
     },
     "execution_count": 29,
     "metadata": {},
     "output_type": "execute_result"
    }
   ],
   "source": [
    "name[-1:-5]\n",
    "#first falue is  big in slicing"
   ]
  },
  {
   "cell_type": "code",
   "execution_count": 30,
   "id": "c89b89ac",
   "metadata": {},
   "outputs": [
    {
     "data": {
      "text/plain": [
       "'mansi'"
      ]
     },
     "execution_count": 30,
     "metadata": {},
     "output_type": "execute_result"
    }
   ],
   "source": [
    "name[-6:-1]"
   ]
  },
  {
   "cell_type": "code",
   "execution_count": 31,
   "id": "26550485",
   "metadata": {},
   "outputs": [
    {
     "data": {
      "text/plain": [
       "'o'"
      ]
     },
     "execution_count": 31,
     "metadata": {},
     "output_type": "execute_result"
    }
   ],
   "source": [
    "name[4]"
   ]
  },
  {
   "cell_type": "code",
   "execution_count": 32,
   "id": "96cd005d",
   "metadata": {},
   "outputs": [
    {
     "data": {
      "text/plain": [
       "'m'"
      ]
     },
     "execution_count": 32,
     "metadata": {},
     "output_type": "execute_result"
    }
   ],
   "source": [
    "name[-12]"
   ]
  },
  {
   "cell_type": "code",
   "execution_count": 33,
   "id": "2629d78a",
   "metadata": {},
   "outputs": [
    {
     "data": {
      "text/plain": [
       "'h'"
      ]
     },
     "execution_count": 33,
     "metadata": {},
     "output_type": "execute_result"
    }
   ],
   "source": [
    "name[0]"
   ]
  },
  {
   "cell_type": "code",
   "execution_count": 34,
   "id": "95439d0c",
   "metadata": {},
   "outputs": [
    {
     "data": {
      "text/plain": [
       "' '"
      ]
     },
     "execution_count": 34,
     "metadata": {},
     "output_type": "execute_result"
    }
   ],
   "source": [
    "name[-7]"
   ]
  },
  {
   "cell_type": "code",
   "execution_count": 35,
   "id": "f3ece779",
   "metadata": {},
   "outputs": [
    {
     "data": {
      "text/plain": [
       "' '"
      ]
     },
     "execution_count": 35,
     "metadata": {},
     "output_type": "execute_result"
    }
   ],
   "source": [
    "name[5]"
   ]
  },
  {
   "cell_type": "code",
   "execution_count": 36,
   "id": "2c297f04",
   "metadata": {},
   "outputs": [
    {
     "data": {
      "text/plain": [
       "'a'"
      ]
     },
     "execution_count": 36,
     "metadata": {},
     "output_type": "execute_result"
    }
   ],
   "source": [
    "name[-5]"
   ]
  },
  {
   "cell_type": "code",
   "execution_count": 37,
   "id": "e44aea29",
   "metadata": {},
   "outputs": [
    {
     "data": {
      "text/plain": [
       "'lo'"
      ]
     },
     "execution_count": 37,
     "metadata": {},
     "output_type": "execute_result"
    }
   ],
   "source": [
    "name[3:5]"
   ]
  },
  {
   "cell_type": "code",
   "execution_count": 38,
   "id": "7c71f5cc",
   "metadata": {},
   "outputs": [
    {
     "data": {
      "text/plain": [
       "2617636055376"
      ]
     },
     "execution_count": 38,
     "metadata": {},
     "output_type": "execute_result"
    }
   ],
   "source": [
    "a=b=c=2\n",
    "id(a)"
   ]
  },
  {
   "cell_type": "code",
   "execution_count": 39,
   "id": "0a1af1ea",
   "metadata": {},
   "outputs": [
    {
     "data": {
      "text/plain": [
       "2617636055376"
      ]
     },
     "execution_count": 39,
     "metadata": {},
     "output_type": "execute_result"
    }
   ],
   "source": [
    "id(b)"
   ]
  },
  {
   "cell_type": "code",
   "execution_count": 40,
   "id": "4ac39778",
   "metadata": {},
   "outputs": [
    {
     "data": {
      "text/plain": [
       "2617636246640"
      ]
     },
     "execution_count": 40,
     "metadata": {},
     "output_type": "execute_result"
    }
   ],
   "source": [
    "x=89\n",
    "id(x)"
   ]
  },
  {
   "cell_type": "code",
   "execution_count": 41,
   "id": "da8dfa48",
   "metadata": {},
   "outputs": [],
   "source": [
    "a=89"
   ]
  },
  {
   "cell_type": "code",
   "execution_count": 42,
   "id": "015aac53",
   "metadata": {},
   "outputs": [
    {
     "data": {
      "text/plain": [
       "2"
      ]
     },
     "execution_count": 42,
     "metadata": {},
     "output_type": "execute_result"
    }
   ],
   "source": [
    "b"
   ]
  },
  {
   "cell_type": "code",
   "execution_count": 43,
   "id": "748c61a5",
   "metadata": {},
   "outputs": [
    {
     "data": {
      "text/plain": [
       "2"
      ]
     },
     "execution_count": 43,
     "metadata": {},
     "output_type": "execute_result"
    }
   ],
   "source": [
    "c"
   ]
  },
  {
   "cell_type": "code",
   "execution_count": 44,
   "id": "55cc8ac8",
   "metadata": {},
   "outputs": [
    {
     "data": {
      "text/plain": [
       "89"
      ]
     },
     "execution_count": 44,
     "metadata": {},
     "output_type": "execute_result"
    }
   ],
   "source": [
    "a"
   ]
  },
  {
   "cell_type": "markdown",
   "id": "2239eb7c",
   "metadata": {},
   "source": [
    "# string formatting"
   ]
  },
  {
   "cell_type": "code",
   "execution_count": 45,
   "id": "906f0ba4",
   "metadata": {},
   "outputs": [
    {
     "name": "stdout",
     "output_type": "stream",
     "text": [
      "\n",
      " print string in positional order\n",
      "programing python language\n"
     ]
    }
   ],
   "source": [
    "#poditing formatimg\n",
    "string1 = \"{1} {0} {2}\".format('python','programing','language')\n",
    "print (\"\\n print string in positional order\")\n",
    "print(string1)"
   ]
  },
  {
   "cell_type": "code",
   "execution_count": 15,
   "id": "e06a310a",
   "metadata": {},
   "outputs": [
    {
     "name": "stdout",
     "output_type": "stream",
     "text": [
      "\n",
      " print string in order of keywords: \n",
      "python programming language\n"
     ]
    }
   ],
   "source": [
    "#key formating\n",
    "string1 = \"{a} {b} {c}\" .format(a= 'python', b= 'programming', c= 'language')\n",
    "print(\"\\n print string in order of keywords: \")\n",
    "print(string1)\n"
   ]
  },
  {
   "cell_type": "markdown",
   "id": "a1a7d29a",
   "metadata": {},
   "source": [
    "# python list"
   ]
  },
  {
   "cell_type": "code",
   "execution_count": 46,
   "id": "75a995ad",
   "metadata": {},
   "outputs": [],
   "source": [
    "my_list=[1,2,3,4,5,6,7,8,9]"
   ]
  },
  {
   "cell_type": "code",
   "execution_count": 8,
   "id": "dbed4e2e",
   "metadata": {},
   "outputs": [
    {
     "data": {
      "text/plain": [
       "[1, 2, 3, 4, 5, 6, 7, 8, 9]"
      ]
     },
     "execution_count": 8,
     "metadata": {},
     "output_type": "execute_result"
    }
   ],
   "source": [
    "my_list"
   ]
  },
  {
   "cell_type": "code",
   "execution_count": 9,
   "id": "2847e88f",
   "metadata": {},
   "outputs": [
    {
     "data": {
      "text/plain": [
       "list"
      ]
     },
     "execution_count": 9,
     "metadata": {},
     "output_type": "execute_result"
    }
   ],
   "source": [
    "type(my_list)"
   ]
  },
  {
   "cell_type": "code",
   "execution_count": 10,
   "id": "5905058d",
   "metadata": {},
   "outputs": [
    {
     "data": {
      "text/plain": [
       "int"
      ]
     },
     "execution_count": 10,
     "metadata": {},
     "output_type": "execute_result"
    }
   ],
   "source": [
    "type(my_list[0])"
   ]
  },
  {
   "cell_type": "code",
   "execution_count": 11,
   "id": "50807871",
   "metadata": {},
   "outputs": [],
   "source": [
    "x=[1,2,3.4,'mansi']"
   ]
  },
  {
   "cell_type": "code",
   "execution_count": 12,
   "id": "58adb035",
   "metadata": {},
   "outputs": [
    {
     "data": {
      "text/plain": [
       "list"
      ]
     },
     "execution_count": 12,
     "metadata": {},
     "output_type": "execute_result"
    }
   ],
   "source": [
    "type(x)"
   ]
  },
  {
   "cell_type": "code",
   "execution_count": 13,
   "id": "79f2073f",
   "metadata": {},
   "outputs": [
    {
     "data": {
      "text/plain": [
       "3.4"
      ]
     },
     "execution_count": 13,
     "metadata": {},
     "output_type": "execute_result"
    }
   ],
   "source": [
    "x[2]"
   ]
  },
  {
   "cell_type": "code",
   "execution_count": 14,
   "id": "04ce97e4",
   "metadata": {},
   "outputs": [
    {
     "data": {
      "text/plain": [
       "'mansi'"
      ]
     },
     "execution_count": 14,
     "metadata": {},
     "output_type": "execute_result"
    }
   ],
   "source": [
    "x[-1]"
   ]
  },
  {
   "cell_type": "code",
   "execution_count": 16,
   "id": "5d4caae6",
   "metadata": {},
   "outputs": [
    {
     "name": "stdout",
     "output_type": "stream",
     "text": [
      "enter the value x8\n",
      "enter the value y54\n"
     ]
    }
   ],
   "source": [
    "x=input(\"enter the value x\")\n",
    "y=input(\"enter the value y\")"
   ]
  },
  {
   "cell_type": "code",
   "execution_count": 17,
   "id": "406623a9",
   "metadata": {},
   "outputs": [
    {
     "data": {
      "text/plain": [
       "'854'"
      ]
     },
     "execution_count": 17,
     "metadata": {},
     "output_type": "execute_result"
    }
   ],
   "source": [
    "x+y"
   ]
  },
  {
   "cell_type": "markdown",
   "id": "e1b13b32",
   "metadata": {},
   "source": [
    "# tuple"
   ]
  },
  {
   "cell_type": "code",
   "execution_count": 23,
   "id": "f91872a9",
   "metadata": {},
   "outputs": [],
   "source": [
    "t1 = (8,5,34,2,5,2)\n",
    "t2 = (1,2,34,5,6,)"
   ]
  },
  {
   "cell_type": "code",
   "execution_count": 24,
   "id": "a0fe0158",
   "metadata": {},
   "outputs": [
    {
     "data": {
      "text/plain": [
       "tuple"
      ]
     },
     "execution_count": 24,
     "metadata": {},
     "output_type": "execute_result"
    }
   ],
   "source": [
    "type(t1)"
   ]
  },
  {
   "cell_type": "code",
   "execution_count": 25,
   "id": "bc05d9aa",
   "metadata": {},
   "outputs": [
    {
     "data": {
      "text/plain": [
       "(8, 5, 34, 2, 5, 2, 1, 2, 34, 5, 6)"
      ]
     },
     "execution_count": 25,
     "metadata": {},
     "output_type": "execute_result"
    }
   ],
   "source": [
    "t1+t2"
   ]
  },
  {
   "cell_type": "code",
   "execution_count": 26,
   "id": "386f3bde",
   "metadata": {},
   "outputs": [
    {
     "data": {
      "text/plain": [
       "(8, 5, 34, 2, 5, 2, 8, 5, 34, 2, 5, 2)"
      ]
     },
     "execution_count": 26,
     "metadata": {},
     "output_type": "execute_result"
    }
   ],
   "source": [
    "t1*2"
   ]
  },
  {
   "cell_type": "code",
   "execution_count": 28,
   "id": "48e8d03a",
   "metadata": {},
   "outputs": [
    {
     "data": {
      "text/plain": [
       "8"
      ]
     },
     "execution_count": 28,
     "metadata": {},
     "output_type": "execute_result"
    }
   ],
   "source": [
    "t1[0]"
   ]
  },
  {
   "cell_type": "markdown",
   "id": "75d438fe",
   "metadata": {},
   "source": [
    "# python dictionary"
   ]
  },
  {
   "cell_type": "code",
   "execution_count": 29,
   "id": "0ec4c029",
   "metadata": {},
   "outputs": [
    {
     "data": {
      "text/plain": [
       "dict"
      ]
     },
     "execution_count": 29,
     "metadata": {},
     "output_type": "execute_result"
    }
   ],
   "source": [
    "emp={}\n",
    "type(emp)"
   ]
  },
  {
   "cell_type": "code",
   "execution_count": 30,
   "id": "0f8acc48",
   "metadata": {},
   "outputs": [],
   "source": [
    "emp[\"name\"]= \"mansi\"\n",
    "emp[\"age\"]= 20\n",
    "emp[\"gender\"]= \"F\""
   ]
  },
  {
   "cell_type": "code",
   "execution_count": 31,
   "id": "ad8e4899",
   "metadata": {},
   "outputs": [
    {
     "data": {
      "text/plain": [
       "{'name': 'mansi', 'age': 20, 'gender': 'F'}"
      ]
     },
     "execution_count": 31,
     "metadata": {},
     "output_type": "execute_result"
    }
   ],
   "source": [
    "emp"
   ]
  },
  {
   "cell_type": "code",
   "execution_count": 32,
   "id": "74ad6e5e",
   "metadata": {},
   "outputs": [
    {
     "data": {
      "text/plain": [
       "'mansi'"
      ]
     },
     "execution_count": 32,
     "metadata": {},
     "output_type": "execute_result"
    }
   ],
   "source": [
    "emp[\"name\"]"
   ]
  },
  {
   "cell_type": "code",
   "execution_count": 33,
   "id": "a58220bf",
   "metadata": {},
   "outputs": [
    {
     "data": {
      "text/plain": [
       "dict_keys(['name', 'age', 'gender'])"
      ]
     },
     "execution_count": 33,
     "metadata": {},
     "output_type": "execute_result"
    }
   ],
   "source": [
    "emp.keys()"
   ]
  },
  {
   "cell_type": "code",
   "execution_count": 35,
   "id": "8e03f34e",
   "metadata": {},
   "outputs": [
    {
     "data": {
      "text/plain": [
       "dict_values(['mansi', 20, 'F'])"
      ]
     },
     "execution_count": 35,
     "metadata": {},
     "output_type": "execute_result"
    }
   ],
   "source": [
    "emp.values()"
   ]
  },
  {
   "cell_type": "markdown",
   "id": "116181eb",
   "metadata": {},
   "source": [
    "# python Loops"
   ]
  },
  {
   "cell_type": "markdown",
   "id": "5af67347",
   "metadata": {},
   "source": [
    "#while Loop"
   ]
  },
  {
   "cell_type": "code",
   "execution_count": 5,
   "id": "4e5901d8",
   "metadata": {},
   "outputs": [
    {
     "name": "stdout",
     "output_type": "stream",
     "text": [
      "the count is: 0\n",
      "GOOD BYE!\n",
      "the count is: 1\n",
      "GOOD BYE!\n",
      "the count is: 2\n",
      "GOOD BYE!\n",
      "the count is: 3\n",
      "GOOD BYE!\n",
      "the count is: 4\n",
      "GOOD BYE!\n",
      "the count is: 5\n",
      "GOOD BYE!\n",
      "the count is: 6\n",
      "GOOD BYE!\n",
      "the count is: 7\n",
      "GOOD BYE!\n",
      "the count is: 8\n",
      "GOOD BYE!\n"
     ]
    }
   ],
   "source": [
    "c=0\n",
    "while(c <9):\n",
    "    print ('the count is:' , c)\n",
    "    c = c+1 \n",
    "    print (\"GOOD BYE!\")"
   ]
  },
  {
   "cell_type": "code",
   "execution_count": 3,
   "id": "bd9a07f4",
   "metadata": {},
   "outputs": [
    {
     "name": "stdout",
     "output_type": "stream",
     "text": [
      "the count is: 0\n",
      "GOOD BYE!\n",
      "the count is: 1\n",
      "GOOD BYE!\n",
      "the count is: 2\n",
      "GOOD BYE!\n",
      "the count is: 3\n",
      "GOOD BYE!\n",
      "the count is: 4\n",
      "GOOD BYE!\n",
      "the count is: 5\n",
      "GOOD BYE!\n",
      "the count is: 6\n",
      "GOOD BYE!\n",
      "the count is: 7\n",
      "GOOD BYE!\n",
      "the count is: 8\n",
      "GOOD BYE!\n"
     ]
    }
   ],
   "source": [
    "c=0\n",
    "while(c<9):\n",
    "    print ('the count is:' , c)\n",
    "    c = c+1 \n",
    "    print (\"GOOD BYE!\")"
   ]
  },
  {
   "cell_type": "code",
   "execution_count": 4,
   "id": "343b561b",
   "metadata": {},
   "outputs": [
    {
     "name": "stdout",
     "output_type": "stream",
     "text": [
      "mansi\n",
      "mansi\n",
      "mansi\n",
      "mansi\n",
      "mansi\n",
      "mansi\n",
      "mansi\n",
      "mansi\n",
      "mansi\n"
     ]
    }
   ],
   "source": [
    "c=0\n",
    "while(c<9):\n",
    "   # print('the count is:',c)\n",
    "    c= c+1\n",
    "    print(\"mansi\")"
   ]
  },
  {
   "cell_type": "markdown",
   "id": "b8be13fa",
   "metadata": {},
   "source": [
    "# while loop with else"
   ]
  },
  {
   "cell_type": "code",
   "execution_count": 7,
   "id": "4ff362b7",
   "metadata": {},
   "outputs": [
    {
     "name": "stdout",
     "output_type": "stream",
     "text": [
      "0 is less than 5\n",
      "1 is less than 5\n",
      "2 is less than 5\n",
      "3 is less than 5\n",
      "4 is less than 5\n",
      "5 is not less than 5\n"
     ]
    }
   ],
   "source": [
    "c=0\n",
    "while c < 5:\n",
    "    print(c, \"is less than 5\")\n",
    "    c= c+1\n",
    "else:\n",
    "        print(c, \"is not less than 5\")"
   ]
  },
  {
   "cell_type": "markdown",
   "id": "3aac8dd9",
   "metadata": {},
   "source": [
    "# for loop"
   ]
  },
  {
   "cell_type": "code",
   "execution_count": 8,
   "id": "3571be11",
   "metadata": {},
   "outputs": [
    {
     "name": "stdout",
     "output_type": "stream",
     "text": [
      "current letter: p\n",
      "current letter: y\n",
      "current letter: t\n",
      "current letter: h\n",
      "current letter: o\n",
      "current letter: n\n"
     ]
    }
   ],
   "source": [
    "for letter in 'python': #first ex\n",
    "    print('current letter:', letter)"
   ]
  },
  {
   "cell_type": "code",
   "execution_count": 2,
   "id": "7af51b49",
   "metadata": {},
   "outputs": [
    {
     "name": "stdout",
     "output_type": "stream",
     "text": [
      "current fruit: kivi\n",
      "current fruit: orange\n",
      "current fruit: apple\n"
     ]
    }
   ],
   "source": [
    "fruit = ['kivi' ,'orange','apple'] \n",
    "for fruit in fruit:\n",
    "    print (\"current fruit:\" ,fruit)"
   ]
  },
  {
   "cell_type": "code",
   "execution_count": 3,
   "id": "90ccbe35",
   "metadata": {},
   "outputs": [
    {
     "name": "stdout",
     "output_type": "stream",
     "text": [
      "0\n",
      "1\n",
      "2\n",
      "3\n",
      "4\n",
      "5\n",
      "6\n",
      "7\n",
      "8\n",
      "9\n"
     ]
    }
   ],
   "source": [
    "for i in range(10):\n",
    "    print(i)"
   ]
  },
  {
   "cell_type": "markdown",
   "id": "6e8e9ea8",
   "metadata": {},
   "source": [
    "# for loop with else"
   ]
  },
  {
   "cell_type": "code",
   "execution_count": 20,
   "id": "a027a1ad",
   "metadata": {},
   "outputs": [
    {
     "name": "stdout",
     "output_type": "stream",
     "text": [
      "10 equals 2 * 5\n",
      "12 equals 2 * 6\n",
      "14 equals 2 * 7\n",
      "16 equals 2 * 8\n",
      "18 equals 2 * 9\n",
      "20 equals 2 * 10\n",
      "22 equals 2 * 11\n",
      "24 equals 2 * 12\n",
      "26 equals 2 * 13\n",
      "28 equals 2 * 14\n"
     ]
    }
   ],
   "source": [
    "for num in range(10,30):  #to iterate between 10 to 20\n",
    "    for i in range(2,num): # to ireate on the factor of the no\n",
    "        if num%i == 0: # determine first factor\n",
    "            j=num/i #caluate the first factor\n",
    "            print ('%d equals %d * %d' % (num,i,j))\n",
    "        break \n",
    "    else:\n",
    "        print (num,'is a prime no')\n",
    "        break"
   ]
  },
  {
   "cell_type": "code",
   "execution_count": 22,
   "id": "4374f75c",
   "metadata": {},
   "outputs": [
    {
     "data": {
      "text/plain": [
       "3.141592653589793"
      ]
     },
     "execution_count": 22,
     "metadata": {},
     "output_type": "execute_result"
    }
   ],
   "source": [
    "from math import pi\n",
    "pi"
   ]
  },
  {
   "cell_type": "code",
   "execution_count": 23,
   "id": "b95e7f14",
   "metadata": {},
   "outputs": [
    {
     "data": {
      "text/plain": [
       "452.3893421169302"
      ]
     },
     "execution_count": 23,
     "metadata": {},
     "output_type": "execute_result"
    }
   ],
   "source": [
    "#find area of cricle\n",
    "r=12\n",
    "area = pi*r*r\n",
    "area"
   ]
  },
  {
   "cell_type": "markdown",
   "id": "e026333a",
   "metadata": {},
   "source": [
    "# conditional statement"
   ]
  },
  {
   "cell_type": "code",
   "execution_count": 2,
   "id": "c4948f1e",
   "metadata": {},
   "outputs": [
    {
     "name": "stdout",
     "output_type": "stream",
     "text": [
      "9 is positive no\n"
     ]
    }
   ],
   "source": [
    "num =9\n",
    "if num>0:\n",
    "    if num == 0:\n",
    "        print ( num, \"is zero\")\n",
    "    else:\n",
    "        print (num, \"is positive no\")\n",
    "   # print (\"statement is true\")\n",
    "else:\n",
    "    print(num, \"is negetive no\")"
   ]
  },
  {
   "cell_type": "code",
   "execution_count": null,
   "id": "4599d806",
   "metadata": {},
   "outputs": [],
   "source": []
  },
  {
   "cell_type": "markdown",
   "id": "771bdb9b",
   "metadata": {},
   "source": [
    "# calculator"
   ]
  },
  {
   "cell_type": "code",
   "execution_count": 1,
   "id": "9063e305",
   "metadata": {},
   "outputs": [
    {
     "name": "stdout",
     "output_type": "stream",
     "text": [
      "select operation\n",
      "1. add\n",
      "2. sub\n",
      "3. mul\n",
      "4. div\n",
      "enter choice(1/2/3/4):3\n",
      "enter the first no:76\n",
      "enter the secound no:4\n",
      "76 * 4 = 304\n"
     ]
    }
   ],
   "source": [
    "# this function add two no\n",
    "def add(x,y):\n",
    "    return x+y\n",
    "\n",
    "# this function sub two no\n",
    "def sub(x,y):\n",
    "    return x-y\n",
    "\n",
    " # this function multiply two no\n",
    "def mul(x,y):\n",
    "    \n",
    "    return x*y\n",
    "# this function div two no\n",
    "def div(x,y):\n",
    "    return x/y\n",
    "print(\"select operation\")\n",
    "print(\"1. add\")\n",
    "print(\"2. sub\")\n",
    "print(\"3. mul\")\n",
    "print(\"4. div\")\n",
    "\n",
    "choice = input(\"enter choice(1/2/3/4):\")\n",
    "\n",
    "num1 = int(input(\"enter the first no:\"))\n",
    "num2 = int(input(\"enter the secound no:\"))\n",
    "\n",
    "if choice == '1':\n",
    "    print(num1,'+',num2,'=',add(num1,num2))\n",
    "elif choice == '2':\n",
    "    print(num1,'-',num2,'=',sub(num1,num2))\n",
    "elif choice == '3':\n",
    "    print(num1,'*',num2,'=',mul(num1,num2))\n",
    "elif choice == '4':\n",
    "    print(num1,'/',num2,'=',div(num1,num2))\n",
    "else:\n",
    "    print(\"invalid input\")\n",
    "    \n",
    "\n",
    "\n",
    "\n",
    "\n"
   ]
  },
  {
   "cell_type": "code",
   "execution_count": null,
   "id": "6bc228f3",
   "metadata": {},
   "outputs": [],
   "source": []
  }
 ],
 "metadata": {
  "kernelspec": {
   "display_name": "Python 3 (ipykernel)",
   "language": "python",
   "name": "python3"
  },
  "language_info": {
   "codemirror_mode": {
    "name": "ipython",
    "version": 3
   },
   "file_extension": ".py",
   "mimetype": "text/x-python",
   "name": "python",
   "nbconvert_exporter": "python",
   "pygments_lexer": "ipython3",
   "version": "3.9.12"
  }
 },
 "nbformat": 4,
 "nbformat_minor": 5
}
