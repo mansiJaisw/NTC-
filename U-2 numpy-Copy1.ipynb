{
 "cells": [
  {
   "cell_type": "markdown",
   "id": "b69ca5ac",
   "metadata": {},
   "source": [
    "# Numpy"
   ]
  },
  {
   "cell_type": "code",
   "execution_count": 1,
   "id": "fe65b586",
   "metadata": {},
   "outputs": [
    {
     "name": "stdout",
     "output_type": "stream",
     "text": [
      "Requirement already satisfied: numpy in c:\\users\\sap\\anaconda3\\lib\\site-packages (1.21.5)\n",
      "Note: you may need to restart the kernel to use updated packages.\n"
     ]
    }
   ],
   "source": [
    "pip install numpy"
   ]
  },
  {
   "cell_type": "code",
   "execution_count": 1,
   "id": "81eb484b",
   "metadata": {},
   "outputs": [
    {
     "name": "stdout",
     "output_type": "stream",
     "text": [
      "Package                       Version\n",
      "----------------------------- --------------------\n",
      "aiohttp                       3.8.1\n",
      "aiosignal                     1.2.0\n",
      "alabaster                     0.7.12\n",
      "anaconda-client               1.9.0\n",
      "anaconda-navigator            2.1.4\n",
      "anaconda-project              0.10.2\n",
      "anyio                         3.5.0\n",
      "appdirs                       1.4.4\n",
      "argon2-cffi                   21.3.0\n",
      "argon2-cffi-bindings          21.2.0\n",
      "arrow                         1.2.2\n",
      "astroid                       2.6.6\n",
      "astropy                       5.0.4\n",
      "asttokens                     2.0.5\n",
      "async-timeout                 4.0.1\n",
      "atomicwrites                  1.4.0\n",
      "attrs                         21.4.0\n",
      "Automat                       20.2.0\n",
      "autopep8                      1.6.0\n",
      "Babel                         2.9.1\n",
      "backcall                      0.2.0\n",
      "backports.functools-lru-cache 1.6.4\n",
      "backports.tempfile            1.0\n",
      "backports.weakref             1.0.post1\n",
      "bcrypt                        3.2.0\n",
      "beautifulsoup4                4.11.1\n",
      "binaryornot                   0.4.4\n",
      "bitarray                      2.4.1\n",
      "bkcharts                      0.2\n",
      "black                         19.10b0\n",
      "bleach                        4.1.0\n",
      "bokeh                         2.4.2\n",
      "boto3                         1.21.32\n",
      "botocore                      1.24.32\n",
      "Bottleneck                    1.3.4\n",
      "brotlipy                      0.7.0\n",
      "cachetools                    4.2.2\n",
      "certifi                       2021.10.8\n",
      "cffi                          1.15.0\n",
      "chardet                       4.0.0\n",
      "charset-normalizer            2.0.4\n",
      "click                         8.0.4\n",
      "cloudpickle                   2.0.0\n",
      "clyent                        1.2.2\n",
      "colorama                      0.4.4\n",
      "colorcet                      2.0.6\n",
      "comtypes                      1.1.10\n",
      "conda                         4.12.0\n",
      "conda-build                   3.21.8\n",
      "conda-content-trust           0+unknown\n",
      "conda-pack                    0.6.0\n",
      "conda-package-handling        1.8.1\n",
      "conda-repo-cli                1.0.4\n",
      "conda-token                   0.3.0\n",
      "conda-verify                  3.4.2\n",
      "constantly                    15.1.0\n",
      "cookiecutter                  1.7.3\n",
      "cryptography                  3.4.8\n",
      "cssselect                     1.1.0\n",
      "cycler                        0.11.0\n",
      "Cython                        0.29.28\n",
      "cytoolz                       0.11.0\n",
      "daal4py                       2021.5.0\n",
      "dask                          2022.2.1\n",
      "datashader                    0.13.0\n",
      "datashape                     0.5.4\n",
      "debugpy                       1.5.1\n",
      "decorator                     5.1.1\n",
      "defusedxml                    0.7.1\n",
      "diff-match-patch              20200713\n",
      "distributed                   2022.2.1\n",
      "docutils                      0.17.1\n",
      "entrypoints                   0.4\n",
      "et-xmlfile                    1.1.0\n",
      "executing                     0.8.3\n",
      "fastjsonschema                2.15.1\n",
      "filelock                      3.6.0\n",
      "flake8                        3.9.2\n",
      "Flask                         1.1.2\n",
      "fonttools                     4.25.0\n",
      "frozenlist                    1.2.0\n",
      "fsspec                        2022.2.0\n",
      "future                        0.18.2\n",
      "gensim                        4.1.2\n",
      "glob2                         0.7\n",
      "google-api-core               1.25.1\n",
      "google-auth                   1.33.0\n",
      "google-cloud-core             1.7.1\n",
      "google-cloud-storage          1.31.0\n",
      "google-crc32c                 1.1.2\n",
      "google-resumable-media        1.3.1\n",
      "googleapis-common-protos      1.53.0\n",
      "greenlet                      1.1.1\n",
      "grpcio                        1.42.0\n",
      "h5py                          3.6.0\n",
      "HeapDict                      1.0.1\n",
      "holoviews                     1.14.8\n",
      "hvplot                        0.7.3\n",
      "hyperlink                     21.0.0\n",
      "idna                          3.3\n",
      "imagecodecs                   2021.8.26\n",
      "imageio                       2.9.0\n",
      "imagesize                     1.3.0\n",
      "importlib-metadata            4.11.3\n",
      "incremental                   21.3.0\n",
      "inflection                    0.5.1\n",
      "iniconfig                     1.1.1\n",
      "intake                        0.6.5\n",
      "intervaltree                  3.1.0\n",
      "ipykernel                     6.9.1\n",
      "ipython                       8.2.0\n",
      "ipython-genutils              0.2.0\n",
      "ipywidgets                    7.6.5\n",
      "isort                         5.9.3\n",
      "itemadapter                   0.3.0\n",
      "itemloaders                   1.0.4\n",
      "itsdangerous                  2.0.1\n",
      "jdcal                         1.4.1\n",
      "jedi                          0.18.1\n",
      "Jinja2                        2.11.3\n",
      "jinja2-time                   0.2.0\n",
      "jmespath                      0.10.0\n",
      "joblib                        1.1.0\n",
      "json5                         0.9.6\n",
      "jsonschema                    4.4.0\n",
      "jupyter                       1.0.0\n",
      "jupyter-client                6.1.12\n",
      "jupyter-console               6.4.0\n",
      "jupyter-core                  4.9.2\n",
      "jupyter-server                1.13.5\n",
      "jupyterlab                    3.3.2\n",
      "jupyterlab-pygments           0.1.2\n",
      "jupyterlab-server             2.10.3\n",
      "jupyterlab-widgets            1.0.0\n",
      "keyring                       23.4.0\n",
      "kiwisolver                    1.3.2\n",
      "lazy-object-proxy             1.6.0\n",
      "libarchive-c                  2.9\n",
      "llvmlite                      0.38.0\n",
      "locket                        0.2.1\n",
      "lxml                          4.8.0\n",
      "Markdown                      3.3.4\n",
      "MarkupSafe                    2.0.1\n",
      "matplotlib                    3.5.1\n",
      "matplotlib-inline             0.1.2\n",
      "mccabe                        0.6.1\n",
      "menuinst                      1.4.18\n",
      "mistune                       0.8.4\n",
      "mkl-fft                       1.3.1\n",
      "mkl-random                    1.2.2\n",
      "mkl-service                   2.4.0\n",
      "mock                          4.0.3\n",
      "mpmath                        1.2.1\n",
      "msgpack                       1.0.2\n",
      "multidict                     5.1.0\n",
      "multipledispatch              0.6.0\n",
      "munkres                       1.1.4\n",
      "mypy-extensions               0.4.3\n",
      "navigator-updater             0.2.1\n",
      "nbclassic                     0.3.5\n",
      "nbclient                      0.5.13\n",
      "nbconvert                     6.4.4\n",
      "nbformat                      5.3.0\n",
      "nest-asyncio                  1.5.5\n",
      "networkx                      2.7.1\n",
      "nltk                          3.7\n",
      "nose                          1.3.7\n",
      "notebook                      6.4.8\n",
      "numba                         0.55.1\n",
      "numexpr                       2.8.1\n",
      "numpy                         1.21.5\n",
      "numpydoc                      1.2\n",
      "olefile                       0.46\n",
      "openpyxl                      3.0.9\n",
      "packaging                     21.3\n",
      "pandas                        1.4.2\n",
      "pandocfilters                 1.5.0\n",
      "panel                         0.13.0\n",
      "param                         1.12.0\n",
      "paramiko                      2.8.1\n",
      "parsel                        1.6.0\n",
      "parso                         0.8.3\n",
      "partd                         1.2.0\n",
      "pathspec                      0.7.0\n",
      "patsy                         0.5.2\n",
      "pep8                          1.7.1\n",
      "pexpect                       4.8.0\n",
      "pickleshare                   0.7.5\n",
      "Pillow                        9.0.1\n",
      "pip                           21.2.4\n",
      "pkginfo                       1.8.2\n",
      "plotly                        5.6.0\n",
      "pluggy                        1.0.0\n",
      "poyo                          0.5.0\n",
      "prometheus-client             0.13.1\n",
      "prompt-toolkit                3.0.20\n",
      "Protego                       0.1.16\n",
      "protobuf                      3.19.1\n",
      "psutil                        5.8.0\n",
      "ptyprocess                    0.7.0\n",
      "pure-eval                     0.2.2\n",
      "py                            1.11.0\n",
      "pyasn1                        0.4.8\n",
      "pyasn1-modules                0.2.8\n",
      "pycodestyle                   2.7.0\n",
      "pycosat                       0.6.3\n",
      "pycparser                     2.21\n",
      "pyct                          0.4.6\n",
      "pycurl                        7.44.1\n",
      "PyDispatcher                  2.0.5\n",
      "pydocstyle                    6.1.1\n",
      "pyerfa                        2.0.0\n",
      "pyflakes                      2.3.1\n",
      "Pygments                      2.11.2\n",
      "PyHamcrest                    2.0.2\n",
      "PyJWT                         2.1.0\n",
      "pylint                        2.9.6\n",
      "pyls-spyder                   0.4.0\n",
      "PyNaCl                        1.4.0\n",
      "pyodbc                        4.0.32\n",
      "pyOpenSSL                     21.0.0\n",
      "pyparsing                     3.0.4\n",
      "pyreadline                    2.1\n",
      "pyrsistent                    0.18.0\n",
      "PySocks                       1.7.1\n",
      "pytest                        7.1.1\n",
      "python-dateutil               2.8.2\n",
      "python-lsp-black              1.0.0\n",
      "python-lsp-jsonrpc            1.0.0\n",
      "python-lsp-server             1.2.4\n",
      "python-slugify                5.0.2\n",
      "python-snappy                 0.6.0\n",
      "pytz                          2021.3\n",
      "pyviz-comms                   2.0.2\n",
      "PyWavelets                    1.3.0\n",
      "pywin32                       302\n",
      "pywin32-ctypes                0.2.0\n",
      "pywinpty                      2.0.2\n",
      "PyYAML                        6.0\n",
      "pyzmq                         22.3.0\n",
      "QDarkStyle                    3.0.2\n",
      "qstylizer                     0.1.10\n",
      "QtAwesome                     1.0.3\n",
      "qtconsole                     5.3.0\n",
      "QtPy                          2.0.1\n",
      "queuelib                      1.5.0\n",
      "regex                         2022.3.15\n",
      "requests                      2.27.1\n",
      "requests-file                 1.5.1\n",
      "rope                          0.22.0\n",
      "rsa                           4.7.2\n",
      "Rtree                         0.9.7\n",
      "ruamel-yaml-conda             0.15.100\n",
      "s3transfer                    0.5.0\n",
      "scikit-image                  0.19.2\n",
      "scikit-learn                  1.0.2\n",
      "scikit-learn-intelex          2021.20220215.102710\n",
      "scipy                         1.7.3\n",
      "Scrapy                        2.6.1\n",
      "seaborn                       0.11.2\n",
      "Send2Trash                    1.8.0\n",
      "service-identity              18.1.0\n",
      "setuptools                    61.2.0\n",
      "sip                           4.19.13\n",
      "six                           1.16.0\n",
      "smart-open                    5.1.0\n",
      "sniffio                       1.2.0\n",
      "snowballstemmer               2.2.0\n",
      "sortedcollections             2.1.0\n",
      "sortedcontainers              2.4.0\n",
      "soupsieve                     2.3.1\n",
      "Sphinx                        4.4.0\n",
      "sphinxcontrib-applehelp       1.0.2\n",
      "sphinxcontrib-devhelp         1.0.2\n",
      "sphinxcontrib-htmlhelp        2.0.0\n",
      "sphinxcontrib-jsmath          1.0.1\n",
      "sphinxcontrib-qthelp          1.0.3\n",
      "sphinxcontrib-serializinghtml 1.1.5\n",
      "spyder                        5.1.5\n",
      "spyder-kernels                2.1.3\n",
      "SQLAlchemy                    1.4.32\n",
      "stack-data                    0.2.0\n",
      "statsmodels                   0.13.2\n",
      "sympy                         1.10.1\n",
      "tables                        3.6.1\n",
      "tabulate                      0.8.9\n",
      "TBB                           0.2\n",
      "tblib                         1.7.0\n",
      "tenacity                      8.0.1\n",
      "terminado                     0.13.1\n",
      "testpath                      0.5.0\n",
      "text-unidecode                1.3\n",
      "textdistance                  4.2.1\n",
      "threadpoolctl                 2.2.0\n",
      "three-merge                   0.1.1\n",
      "tifffile                      2021.7.2\n",
      "tinycss                       0.4\n",
      "tldextract                    3.2.0\n",
      "toml                          0.10.2\n",
      "tomli                         1.2.2\n",
      "toolz                         0.11.2\n",
      "tornado                       6.1\n",
      "tqdm                          4.64.0\n",
      "traitlets                     5.1.1\n",
      "Twisted                       22.2.0\n",
      "twisted-iocpsupport           1.0.2\n",
      "typed-ast                     1.4.3\n",
      "typing_extensions             4.1.1\n",
      "ujson                         5.1.0\n",
      "Unidecode                     1.2.0\n",
      "urllib3                       1.26.9\n",
      "w3lib                         1.21.0\n",
      "watchdog                      2.1.6\n",
      "wcwidth                       0.2.5\n",
      "webencodings                  0.5.1\n",
      "websocket-client              0.58.0\n",
      "Werkzeug                      2.0.3\n",
      "wheel                         0.37.1\n",
      "widgetsnbextension            3.5.2\n",
      "win-inet-pton                 1.1.0\n",
      "win-unicode-console           0.5\n",
      "wincertstore                  0.2\n",
      "wrapt                         1.12.1\n",
      "xarray                        0.20.1\n",
      "xlrd                          2.0.1\n",
      "XlsxWriter                    3.0.3\n",
      "xlwings                       0.24.9\n",
      "yapf                          0.31.0\n",
      "yarl                          1.6.3\n",
      "zict                          2.0.0\n",
      "zipp                          3.7.0\n",
      "zope.interface                5.4.0\n",
      "Note: you may need to restart the kernel to use updated packages.\n"
     ]
    }
   ],
   "source": [
    "pip list"
   ]
  },
  {
   "cell_type": "code",
   "execution_count": 1,
   "id": "f786a78a",
   "metadata": {},
   "outputs": [
    {
     "name": "stdout",
     "output_type": "stream",
     "text": [
      "Collecting package metadata (current_repodata.json): ...working... done\n",
      "Solving environment: ...working... done\n",
      "\n",
      "# All requested packages already installed.\n",
      "\n",
      "Retrieving notices: ...working... done\n",
      "\n",
      "Note: you may need to restart the kernel to use updated packages.\n"
     ]
    }
   ],
   "source": [
    "conda install numpy"
   ]
  },
  {
   "cell_type": "code",
   "execution_count": 2,
   "id": "6c401440",
   "metadata": {},
   "outputs": [],
   "source": [
    "import numpy as np  "
   ]
  },
  {
   "cell_type": "code",
   "execution_count": 3,
   "id": "5ed71b10",
   "metadata": {},
   "outputs": [
    {
     "name": "stdout",
     "output_type": "stream",
     "text": [
      "1.21.5\n"
     ]
    }
   ],
   "source": [
    "print (np.__version__)"
   ]
  },
  {
   "cell_type": "code",
   "execution_count": 11,
   "id": "fb9bc0fd",
   "metadata": {},
   "outputs": [
    {
     "data": {
      "text/plain": [
       "array([ 1,  2,  3,  4,  5,  6,  7,  8,  9, 10])"
      ]
     },
     "execution_count": 11,
     "metadata": {},
     "output_type": "execute_result"
    }
   ],
   "source": [
    "arr = np.array([1,2,3,4,5,6,7,8,9,10])\n",
    "arr"
   ]
  },
  {
   "cell_type": "code",
   "execution_count": 5,
   "id": "04e00088",
   "metadata": {},
   "outputs": [
    {
     "data": {
      "text/plain": [
       "numpy.ndarray"
      ]
     },
     "execution_count": 5,
     "metadata": {},
     "output_type": "execute_result"
    }
   ],
   "source": [
    "type(arr) #find type"
   ]
  },
  {
   "cell_type": "code",
   "execution_count": 14,
   "id": "df05ab69",
   "metadata": {},
   "outputs": [
    {
     "name": "stdout",
     "output_type": "stream",
     "text": [
      "1\n"
     ]
    }
   ],
   "source": [
    "print (np.min(arr))# mimimum value"
   ]
  },
  {
   "cell_type": "code",
   "execution_count": 15,
   "id": "d58214cf",
   "metadata": {},
   "outputs": [
    {
     "name": "stdout",
     "output_type": "stream",
     "text": [
      "10\n"
     ]
    }
   ],
   "source": [
    "print (np.max(arr)) # max value"
   ]
  },
  {
   "cell_type": "code",
   "execution_count": 12,
   "id": "464251f2",
   "metadata": {},
   "outputs": [
    {
     "name": "stdout",
     "output_type": "stream",
     "text": [
      "5.5\n"
     ]
    }
   ],
   "source": [
    "print (np.mean(arr)) # mean value"
   ]
  },
  {
   "cell_type": "code",
   "execution_count": 13,
   "id": "12e5764c",
   "metadata": {},
   "outputs": [
    {
     "name": "stdout",
     "output_type": "stream",
     "text": [
      "5.5\n"
     ]
    }
   ],
   "source": [
    "print (np.median(arr)) # median value"
   ]
  },
  {
   "cell_type": "code",
   "execution_count": 16,
   "id": "19ba7b08",
   "metadata": {},
   "outputs": [
    {
     "name": "stdout",
     "output_type": "stream",
     "text": [
      "9\n"
     ]
    }
   ],
   "source": [
    "print (np.ptp(arr)) # range value"
   ]
  },
  {
   "cell_type": "code",
   "execution_count": 11,
   "id": "d00742c8",
   "metadata": {},
   "outputs": [
    {
     "name": "stdout",
     "output_type": "stream",
     "text": [
      "2.8722813232690143\n"
     ]
    }
   ],
   "source": [
    "print(np.std(arr))# standard deviation value"
   ]
  },
  {
   "cell_type": "code",
   "execution_count": 12,
   "id": "d987190a",
   "metadata": {},
   "outputs": [
    {
     "name": "stdout",
     "output_type": "stream",
     "text": [
      "8.25\n"
     ]
    }
   ],
   "source": [
    "print(np.var(arr)) #variance "
   ]
  },
  {
   "cell_type": "code",
   "execution_count": 13,
   "id": "1dfeab5d",
   "metadata": {},
   "outputs": [
    {
     "name": "stdout",
     "output_type": "stream",
     "text": [
      "5.5\n"
     ]
    }
   ],
   "source": [
    "print(np.average(arr)) #weighted average"
   ]
  },
  {
   "cell_type": "code",
   "execution_count": 18,
   "id": "46fa0503",
   "metadata": {},
   "outputs": [
    {
     "name": "stdout",
     "output_type": "stream",
     "text": [
      "1.9\n"
     ]
    }
   ],
   "source": [
    "print (np.percentile (arr,10)) #percential"
   ]
  },
  {
   "cell_type": "code",
   "execution_count": 20,
   "id": "2e515971",
   "metadata": {},
   "outputs": [
    {
     "name": "stdout",
     "output_type": "stream",
     "text": [
      "[ 1  2  3  4  6  8 29]\n"
     ]
    }
   ],
   "source": [
    "arr = np.array([1,2,4,6,29,8,3])\n",
    "print(np.sort(arr))"
   ]
  },
  {
   "cell_type": "code",
   "execution_count": 21,
   "id": "02ab3918",
   "metadata": {},
   "outputs": [
    {
     "data": {
      "text/plain": [
       "array([[1, 2, 3, 4],\n",
       "       [8, 7, 5, 6]])"
      ]
     },
     "execution_count": 21,
     "metadata": {},
     "output_type": "execute_result"
    }
   ],
   "source": [
    "arr = np.array([[1,2,3,4],[8,7,5,6]]) # creat simple array\n",
    "arr"
   ]
  },
  {
   "cell_type": "code",
   "execution_count": 24,
   "id": "b85a040b",
   "metadata": {},
   "outputs": [
    {
     "name": "stdout",
     "output_type": "stream",
     "text": [
      "2\n"
     ]
    }
   ],
   "source": [
    "#diamension of array\n",
    "print (arr.ndim)"
   ]
  },
  {
   "cell_type": "code",
   "execution_count": 23,
   "id": "77fdb8b5",
   "metadata": {},
   "outputs": [
    {
     "name": "stdout",
     "output_type": "stream",
     "text": [
      "(2, 4)\n"
     ]
    }
   ],
   "source": [
    "# shape of array\n",
    "print(arr.shape)"
   ]
  },
  {
   "cell_type": "code",
   "execution_count": 24,
   "id": "22f88978",
   "metadata": {},
   "outputs": [
    {
     "name": "stdout",
     "output_type": "stream",
     "text": [
      "<memory at 0x00000254905E8930>\n"
     ]
    }
   ],
   "source": [
    "#location\n",
    "print (arr.data)"
   ]
  },
  {
   "cell_type": "markdown",
   "id": "8ee798b6",
   "metadata": {},
   "source": [
    "# random number generator using numpy"
   ]
  },
  {
   "cell_type": "code",
   "execution_count": 25,
   "id": "18963447",
   "metadata": {},
   "outputs": [
    {
     "name": "stdout",
     "output_type": "stream",
     "text": [
      "21\n"
     ]
    }
   ],
   "source": [
    "from numpy import random\n",
    "x= random.randint(100)\n",
    "print(x)"
   ]
  },
  {
   "cell_type": "code",
   "execution_count": 26,
   "id": "645b8976",
   "metadata": {},
   "outputs": [
    {
     "name": "stdout",
     "output_type": "stream",
     "text": [
      "77\n"
     ]
    }
   ],
   "source": [
    "from numpy import random\n",
    "x= random.randint(100)\n",
    "print(x)"
   ]
  },
  {
   "cell_type": "code",
   "execution_count": 27,
   "id": "a1dd2e5d",
   "metadata": {},
   "outputs": [
    {
     "name": "stdout",
     "output_type": "stream",
     "text": [
      "385\n"
     ]
    }
   ],
   "source": [
    "from numpy import random\n",
    "x= random.randint(1000)\n",
    "print(x)"
   ]
  },
  {
   "cell_type": "code",
   "execution_count": 28,
   "id": "344fdd2e",
   "metadata": {},
   "outputs": [
    {
     "name": "stdout",
     "output_type": "stream",
     "text": [
      "17\n"
     ]
    }
   ],
   "source": [
    "from numpy import random\n",
    "x= random.randint(100)\n",
    "print(x)"
   ]
  },
  {
   "cell_type": "code",
   "execution_count": 30,
   "id": "24fec965",
   "metadata": {},
   "outputs": [
    {
     "name": "stdout",
     "output_type": "stream",
     "text": [
      "109\n"
     ]
    }
   ],
   "source": [
    "from numpy import random\n",
    "x= random.randint(798)\n",
    "print(x)"
   ]
  },
  {
   "cell_type": "code",
   "execution_count": 36,
   "id": "12c93295",
   "metadata": {},
   "outputs": [
    {
     "name": "stdout",
     "output_type": "stream",
     "text": [
      "[0.30132328 0.24935941 0.65011782 0.56295562 0.90668619 0.05458121\n",
      " 0.77114908 0.56795571 0.75411881 0.9446635  0.77650287 0.4812046\n",
      " 0.85652049 0.04560783 0.83117564 0.71360946 0.8662834  0.53975423\n",
      " 0.4556353  0.51610698 0.25213635 0.66471112]\n"
     ]
    }
   ],
   "source": [
    "#float value\n",
    "x= random.rand(22)\n",
    "print(x)"
   ]
  },
  {
   "cell_type": "code",
   "execution_count": 37,
   "id": "2103fc4a",
   "metadata": {},
   "outputs": [
    {
     "name": "stdout",
     "output_type": "stream",
     "text": [
      "[33 63 72 89 81 59 76 66 12 35]\n"
     ]
    }
   ],
   "source": [
    "from numpy import random\n",
    "x= random.randint(100, size=(10))\n",
    "print(x)"
   ]
  },
  {
   "cell_type": "code",
   "execution_count": 39,
   "id": "329f295e",
   "metadata": {},
   "outputs": [
    {
     "name": "stdout",
     "output_type": "stream",
     "text": [
      "[[38 81  8 78 53 31  8 39 69 45]\n",
      " [74 86 93  1 79 43 43 91 10  9]\n",
      " [49 89 94 72 48 62 23 46 92 97]\n",
      " [ 8 92 93  1 11 19  9 44 61 73]\n",
      " [54 32 88 36 17 92 88 10 76 99]]\n"
     ]
    }
   ],
   "source": [
    "from numpy import random\n",
    "x= random.randint(100, size=(5,10))\n",
    "print(x)"
   ]
  },
  {
   "cell_type": "code",
   "execution_count": 2,
   "id": "3d9434c0",
   "metadata": {},
   "outputs": [
    {
     "name": "stdout",
     "output_type": "stream",
     "text": [
      "[[95 11 81 70 63 87 75  9 77 40]\n",
      " [ 4 63 40 60 92 64  5 12 93 40]\n",
      " [49 83  8 29 59 34 44 72 19 10]\n",
      " [76 95 87  0 73  8 62 36 83 99]\n",
      " [28 63  7 10 52 56 38 73 52 18]]\n"
     ]
    }
   ],
   "source": [
    "from numpy import random\n",
    "random.seed(101)\n",
    "x= random.randint(100, size=(5,10))\n",
    "print(x)"
   ]
  },
  {
   "cell_type": "markdown",
   "id": "8c7c8cad",
   "metadata": {},
   "source": [
    "# pratical 2.4 : creating scalars in numpy"
   ]
  },
  {
   "cell_type": "code",
   "execution_count": 3,
   "id": "a83949f8",
   "metadata": {},
   "outputs": [
    {
     "name": "stdout",
     "output_type": "stream",
     "text": [
      "Horizontal vector\n",
      "[1 2 3]\n",
      "--------------------\n",
      "vectical vector\n",
      "[[10]\n",
      " [20]\n",
      " [30]]\n"
     ]
    }
   ],
   "source": [
    "#vactor\n",
    "import numpy as np\n",
    "\n",
    "list1 = [1 , 2 , 3]\n",
    "\n",
    "list2 = [[10],\n",
    "         [20],\n",
    "        [30]]\n",
    "vector1 = np.array(list1)\n",
    "vector2 = np.array(list2)\n",
    "\n",
    "print (\"Horizontal vector\")\n",
    "print(vector1)\n",
    "print(\"--------------------\")\n",
    "\n",
    "print (\"vectical vector\")\n",
    "\n",
    "print(vector2)"
   ]
  },
  {
   "cell_type": "markdown",
   "id": "7eca41ec",
   "metadata": {},
   "source": [
    "# 2.6 PRATICAL creating matrix in numpy"
   ]
  },
  {
   "cell_type": "code",
   "execution_count": 9,
   "id": "de3cc734",
   "metadata": {},
   "outputs": [
    {
     "data": {
      "text/plain": [
       "matrix([[1, 2],\n",
       "        [3, 4]])"
      ]
     },
     "execution_count": 9,
     "metadata": {},
     "output_type": "execute_result"
    }
   ],
   "source": [
    "\n",
    "a=np.matrix('1 2; 3 4')\n",
    "a"
   ]
  },
  {
   "cell_type": "code",
   "execution_count": 7,
   "id": "24877767",
   "metadata": {},
   "outputs": [
    {
     "name": "stdout",
     "output_type": "stream",
     "text": [
      "via string input:\n",
      " [[1 2]\n",
      " [3 4]] \n",
      "\n",
      "\n",
      "via arrar -like input: \n",
      " [[2 4 5]\n",
      " [3 7 9]]\n"
     ]
    }
   ],
   "source": [
    "a=np.matrix('1 2; 3 4')\n",
    "print(\"via string input:\\n\",a ,\"\\n\\n\")\n",
    "b =np.matrix ([[2 ,4 ,5],[3, 7,9]])\n",
    "print(\"via arrar -like input: \\n\",b)"
   ]
  },
  {
   "cell_type": "markdown",
   "id": "b80251e7",
   "metadata": {},
   "source": [
    "# 2.7 PRATICAL : matrix multiplication in numpy"
   ]
  },
  {
   "cell_type": "code",
   "execution_count": 10,
   "id": "5bac386b",
   "metadata": {},
   "outputs": [
    {
     "name": "stdout",
     "output_type": "stream",
     "text": [
      "[[15 35]\n",
      " [30 45]]\n"
     ]
    }
   ],
   "source": [
    "import numpy as np\n",
    "a=5\n",
    "b=[[3,7],\n",
    "  [6, 9]]\n",
    "print (np.dot(a,b)) # (dot= multiplication)"
   ]
  },
  {
   "cell_type": "code",
   "execution_count": 11,
   "id": "668fae7b",
   "metadata": {},
   "outputs": [
    {
     "name": "stdout",
     "output_type": "stream",
     "text": [
      "[[41 33]\n",
      " [72 51]]\n",
      "-------------\n",
      "[[51 99]\n",
      " [24 41]]\n"
     ]
    }
   ],
   "source": [
    "a=[[3,7],\n",
    "  [6, 9]]\n",
    "\n",
    "b=[[9,4],\n",
    "  [2, 3]]\n",
    "print(np.dot(a,b))\n",
    "\n",
    "print(\"-------------\")\n",
    "\n",
    "print(np.dot(b,a))"
   ]
  },
  {
   "cell_type": "code",
   "execution_count": 12,
   "id": "80292398",
   "metadata": {},
   "outputs": [
    {
     "data": {
      "text/plain": [
       "array([[1, 5, 8],\n",
       "       [2, 7, 9],\n",
       "       [3, 6, 2]])"
      ]
     },
     "execution_count": 12,
     "metadata": {},
     "output_type": "execute_result"
    }
   ],
   "source": [
    "A =([1,2,3],[5,7,6],[8,9,2])\n",
    "\n",
    "np.transpose(A)\n"
   ]
  },
  {
   "cell_type": "markdown",
   "id": "04ef41ea",
   "metadata": {},
   "source": [
    "# PRATICAL 2.8 : mesaure of centeral tendency using numpy"
   ]
  },
  {
   "cell_type": "code",
   "execution_count": 5,
   "id": "3b4e9799",
   "metadata": {},
   "outputs": [
    {
     "name": "stdout",
     "output_type": "stream",
     "text": [
      "5.5\n",
      "28.0\n",
      "IQR = Q3-Q1= 22.5\n"
     ]
    }
   ],
   "source": [
    "import numpy as np\n",
    "d =[1,2,3,4,5,6,7,8,9,11,12,14,17,34,56,22,34,11,34,78,]\n",
    "\n",
    "#first quartial (Q1)\n",
    "\n",
    "Q1 = np.median(d[:10])\n",
    "\n",
    "print(Q1)\n",
    "\n",
    "\n",
    "#third quartial (Q1)\n",
    "\n",
    "Q3 = np.median(d[10:])\n",
    "\n",
    "print(Q3)\n",
    "\n",
    "# interquratile range\n",
    "\n",
    "IQR = Q3-Q1\n",
    "print (\"IQR = Q3-Q1=\", IQR)\n",
    "\n"
   ]
  },
  {
   "cell_type": "markdown",
   "id": "d693bf75",
   "metadata": {},
   "source": [
    "# PRATICAL : 2.10 ARRAY BROADCASTING IN NUMPY"
   ]
  },
  {
   "cell_type": "code",
   "execution_count": 8,
   "id": "355a3405",
   "metadata": {},
   "outputs": [
    {
     "data": {
      "text/plain": [
       "array([1.2 , 7.82, 8.7 ])"
      ]
     },
     "execution_count": 8,
     "metadata": {},
     "output_type": "execute_result"
    }
   ],
   "source": [
    "a= np.array([1.0,2.3,1.5])\n",
    "b= np.array([1.2,3.4,5.8])\n",
    "a*b"
   ]
  },
  {
   "cell_type": "code",
   "execution_count": 9,
   "id": "0968f251",
   "metadata": {},
   "outputs": [
    {
     "data": {
      "text/plain": [
       "array([2.8 , 6.44, 4.2 ])"
      ]
     },
     "execution_count": 9,
     "metadata": {},
     "output_type": "execute_result"
    }
   ],
   "source": [
    "a= np.array([1.0,2.3,1.5])\n",
    "b=2.8\n",
    "\n",
    "a*b"
   ]
  },
  {
   "cell_type": "markdown",
   "id": "720d58ea",
   "metadata": {},
   "source": [
    "# CALCULATE BMI OF CRICKET PLAYER"
   ]
  },
  {
   "cell_type": "code",
   "execution_count": 12,
   "id": "d028e084",
   "metadata": {},
   "outputs": [
    {
     "data": {
      "text/plain": [
       "array([1.4945, 1.519 , 1.5435, 1.519 , 1.568 , 1.617 , 1.5925, 1.568 ,\n",
       "       1.666 , 1.6905, 1.7395])"
      ]
     },
     "execution_count": 12,
     "metadata": {},
     "output_type": "execute_result"
    }
   ],
   "source": [
    "#Heights of player\n",
    "\n",
    "hg_in = [61,62,63,62,64,66,65,64,68,69,71]\n",
    "\n",
    "#convert inti numpy array\n",
    "\n",
    "ht_np = np.array(hg_in)\n",
    "\n",
    "#convert height from inch to meter by exposing it to 0.0245\n",
    "\n",
    "ht_np = ht_np * 0.0245\n",
    "\n",
    "ht_np"
   ]
  },
  {
   "cell_type": "code",
   "execution_count": 13,
   "id": "9a7283e4",
   "metadata": {},
   "outputs": [
    {
     "data": {
      "text/plain": [
       "array([45.  , 55.35, 44.55, 44.1 , 39.6 , 40.5 , 49.05, 59.4 , 54.45,\n",
       "       40.5 , 44.1 ])"
      ]
     },
     "execution_count": 13,
     "metadata": {},
     "output_type": "execute_result"
    }
   ],
   "source": [
    "#weight of player\n",
    "wt_pd = [100,123,99,98,88,90,109,132,121,90,98]\n",
    "#convert inti array\n",
    "wt_np =np.array(wt_pd)\n",
    "#cnvert into pound 0.45\n",
    "wt_np = wt_np * 0.45\n",
    "wt_np"
   ]
  },
  {
   "cell_type": "code",
   "execution_count": 14,
   "id": "d5b0683d",
   "metadata": {},
   "outputs": [
    {
     "data": {
      "text/plain": [
       "array([20.1474773 , 23.98844394, 18.69969146, 19.11274395, 16.10657018,\n",
       "       15.48941385, 19.34105365, 24.15985527, 19.61769101, 14.17178885,\n",
       "       14.57436774])"
      ]
     },
     "execution_count": 14,
     "metadata": {},
     "output_type": "execute_result"
    }
   ],
   "source": [
    "#bmi calculation\n",
    "BMI = wt_np/(ht_np ** 2)\n",
    "BMI"
   ]
  },
  {
   "cell_type": "code",
   "execution_count": 15,
   "id": "c10700fe",
   "metadata": {},
   "outputs": [
    {
     "data": {
      "text/plain": [
       "14.171788849793996"
      ]
     },
     "execution_count": 15,
     "metadata": {},
     "output_type": "execute_result"
    }
   ],
   "source": [
    "BMI[9]"
   ]
  },
  {
   "cell_type": "code",
   "execution_count": 16,
   "id": "19b10e51",
   "metadata": {},
   "outputs": [
    {
     "data": {
      "text/plain": [
       "array([20.1474773 , 18.69969146, 19.11274395, 16.10657018, 15.48941385,\n",
       "       19.34105365, 19.61769101, 14.17178885, 14.57436774])"
      ]
     },
     "execution_count": 16,
     "metadata": {},
     "output_type": "execute_result"
    }
   ],
   "source": [
    "BMI[BMI<21]"
   ]
  },
  {
   "cell_type": "code",
   "execution_count": 17,
   "id": "7eeba934",
   "metadata": {},
   "outputs": [
    {
     "data": {
      "text/plain": [
       "array([20.1474773 , 23.98844394, 18.69969146, 19.11274395])"
      ]
     },
     "execution_count": 17,
     "metadata": {},
     "output_type": "execute_result"
    }
   ],
   "source": [
    "BMI[:4]"
   ]
  },
  {
   "cell_type": "code",
   "execution_count": 18,
   "id": "a791779a",
   "metadata": {},
   "outputs": [
    {
     "data": {
      "text/plain": [
       "array([[45.    , 55.35  , 44.55  , 44.1   , 39.6   , 40.5   , 49.05  ,\n",
       "        59.4   , 54.45  , 40.5   , 44.1   ],\n",
       "       [ 1.4945,  1.519 ,  1.5435,  1.519 ,  1.568 ,  1.617 ,  1.5925,\n",
       "         1.568 ,  1.666 ,  1.6905,  1.7395]])"
      ]
     },
     "execution_count": 18,
     "metadata": {},
     "output_type": "execute_result"
    }
   ],
   "source": [
    "#2D ARRAY FOR PLAYERS\n",
    "import numpy as np\n",
    "p= np.array([wt_np,ht_np])\n",
    "p"
   ]
  },
  {
   "cell_type": "code",
   "execution_count": 14,
   "id": "1ddf0ca9",
   "metadata": {},
   "outputs": [
    {
     "data": {
      "text/plain": [
       "1.568"
      ]
     },
     "execution_count": 14,
     "metadata": {},
     "output_type": "execute_result"
    }
   ],
   "source": [
    "p[1][7]"
   ]
  },
  {
   "cell_type": "code",
   "execution_count": 15,
   "id": "7b3b8002",
   "metadata": {},
   "outputs": [
    {
     "data": {
      "text/plain": [
       "array([1.4945, 1.519 , 1.5435, 1.519 , 1.568 , 1.617 , 1.5925, 1.568 ,\n",
       "       1.666 , 1.6905, 1.7395])"
      ]
     },
     "execution_count": 15,
     "metadata": {},
     "output_type": "execute_result"
    }
   ],
   "source": [
    "p[1]"
   ]
  },
  {
   "cell_type": "code",
   "execution_count": 17,
   "id": "abd22168",
   "metadata": {},
   "outputs": [
    {
     "data": {
      "text/plain": [
       "array([[45.    ,  1.4945],\n",
       "       [55.35  ,  1.519 ],\n",
       "       [44.55  ,  1.5435],\n",
       "       [44.1   ,  1.519 ],\n",
       "       [39.6   ,  1.568 ],\n",
       "       [40.5   ,  1.617 ],\n",
       "       [49.05  ,  1.5925],\n",
       "       [59.4   ,  1.568 ],\n",
       "       [54.45  ,  1.666 ],\n",
       "       [40.5   ,  1.6905],\n",
       "       [44.1   ,  1.7395]])"
      ]
     },
     "execution_count": 17,
     "metadata": {},
     "output_type": "execute_result"
    }
   ],
   "source": [
    "#transpose\n",
    "\n",
    "PT = p.transpose()\n",
    "PT"
   ]
  },
  {
   "cell_type": "code",
   "execution_count": 18,
   "id": "64f1f66a",
   "metadata": {},
   "outputs": [
    {
     "data": {
      "text/plain": [
       "(11, 2)"
      ]
     },
     "execution_count": 18,
     "metadata": {},
     "output_type": "execute_result"
    }
   ],
   "source": [
    "PT.shape"
   ]
  },
  {
   "cell_type": "code",
   "execution_count": 23,
   "id": "01b8318f",
   "metadata": {},
   "outputs": [
    {
     "name": "stdout",
     "output_type": "stream",
     "text": [
      "46.96363636363637\n",
      "44.550000000000004\n",
      "516.6\n",
      "6.390728046058422\n",
      "[[ 1.         -0.16817279]\n",
      " [-0.16817279  1.        ]]\n"
     ]
    }
   ],
   "source": [
    "#stastical and mathematical function on player data\n",
    "\n",
    "print(np.mean(wt_np))\n",
    "\n",
    "print(np.median(wt_np))\n",
    "\n",
    "print(np.sum(wt_np))\n",
    "\n",
    "#standard deviation\n",
    "\n",
    "print(np.std(wt_np))\n",
    "\n",
    "print(np.corrcoef(wt_np,ht_np))\n",
    "\n",
    "\n",
    "\n"
   ]
  },
  {
   "cell_type": "code",
   "execution_count": 9,
   "id": "49abcd69",
   "metadata": {},
   "outputs": [
    {
     "data": {
      "text/plain": [
       "array([16.66666667, 10.25      , 26.91666667, 21.33333333,  8.33333333,\n",
       "       21.16666667, 15.75      , 24.08333333,  9.08333333, 12.08333333])"
      ]
     },
     "execution_count": 9,
     "metadata": {},
     "output_type": "execute_result"
    }
   ],
   "source": [
    "#find the area of class.\n",
    "\n",
    "hg_in = [200,123,323,256,100,254,189,289,109,145]\n",
    "\n",
    "#convert into numpy array\n",
    "\n",
    "ht_np = np.array(hg_in)\n",
    "\n",
    "ht_np = ht_np /12\n",
    "\n",
    "ht_np"
   ]
  },
  {
   "cell_type": "code",
   "execution_count": 8,
   "id": "7ac8a559",
   "metadata": {},
   "outputs": [
    {
     "data": {
      "text/plain": [
       "array([ 8.33333333, 10.25      , 16.66666667, 20.83333333, 10.        ,\n",
       "       10.        , 20.83333333, 16.66666667, 19.16666667, 10.        ])"
      ]
     },
     "execution_count": 8,
     "metadata": {},
     "output_type": "execute_result"
    }
   ],
   "source": [
    "wt_pd = [100,123,200,250,120,120,250,200,230,120]\n",
    "#convert into array\n",
    "wt_np =np.array(wt_pd)\n",
    "\n",
    "wt_np = wt_np / 12\n",
    "wt_np"
   ]
  },
  {
   "cell_type": "code",
   "execution_count": 10,
   "id": "a1b9e883",
   "metadata": {},
   "outputs": [
    {
     "data": {
      "text/plain": [
       "array([ 8.33333333, 10.25      , 16.66666667, 20.83333333, 15.83333333,\n",
       "       10.        , 16.66666667, 16.66666667, 16.66666667, 10.        ])"
      ]
     },
     "execution_count": 10,
     "metadata": {},
     "output_type": "execute_result"
    }
   ],
   "source": [
    "dd_pd = [100,123,200,250,190,120,200,200,200,120]\n",
    "#convert into array\n",
    "dd_np =np.array(dd_pd)\n",
    "\n",
    "dd_np = dd_np / 12\n",
    "dd_np"
   ]
  },
  {
   "cell_type": "code",
   "execution_count": 11,
   "id": "bc05a4ad",
   "metadata": {},
   "outputs": [
    {
     "data": {
      "text/plain": [
       "array([1157.40740741, 1076.890625  , 7476.85185185, 9259.25925926,\n",
       "       1319.44444444, 2116.66666667, 5468.75      , 6689.81481481,\n",
       "       2901.62037037, 1208.33333333])"
      ]
     },
     "execution_count": 11,
     "metadata": {},
     "output_type": "execute_result"
    }
   ],
   "source": [
    "area = ht_np * wt_np *dd_np\n",
    "\n",
    "area"
   ]
  },
  {
   "cell_type": "code",
   "execution_count": 21,
   "id": "99217c14",
   "metadata": {},
   "outputs": [
    {
     "name": "stderr",
     "output_type": "stream",
     "text": [
      "C:\\Users\\sap\\AppData\\Local\\Temp\\ipykernel_15276\\4107829274.py:3: VisibleDeprecationWarning: Creating an ndarray from ragged nested sequences (which is a list-or-tuple of lists-or-tuples-or ndarrays with different lengths or shapes) is deprecated. If you meant to do this, you must specify 'dtype=object' when creating the ndarray.\n",
      "  p= np.array([wt_np,ht_np,dd_np])\n"
     ]
    },
    {
     "data": {
      "text/plain": [
       "array([array([45.  , 55.35, 44.55, 44.1 , 39.6 , 40.5 , 49.05, 59.4 , 54.45,\n",
       "              40.5 , 44.1 ])                                                ,\n",
       "       array([1.4945, 1.519 , 1.5435, 1.519 , 1.568 , 1.617 , 1.5925, 1.568 ,\n",
       "              1.666 , 1.6905, 1.7395])                                       ,\n",
       "       array([ 8.33333333, 10.25      , 16.66666667, 20.83333333, 15.83333333,\n",
       "              10.        , 16.66666667, 16.66666667, 16.66666667, 10.        ])],\n",
       "      dtype=object)"
      ]
     },
     "execution_count": 21,
     "metadata": {},
     "output_type": "execute_result"
    }
   ],
   "source": [
    "#2D ARRAY FOR CLASS\n",
    "import numpy as np\n",
    "p= np.array([wt_np,ht_np,dd_np])\n",
    "p"
   ]
  },
  {
   "cell_type": "code",
   "execution_count": 20,
   "id": "f24f2f9b",
   "metadata": {},
   "outputs": [
    {
     "data": {
      "text/plain": [
       "array([array([45.  , 55.35, 44.55, 44.1 , 39.6 , 40.5 , 49.05, 59.4 , 54.45,\n",
       "              40.5 , 44.1 ])                                                ,\n",
       "       array([1.4945, 1.519 , 1.5435, 1.519 , 1.568 , 1.617 , 1.5925, 1.568 ,\n",
       "              1.666 , 1.6905, 1.7395])                                       ,\n",
       "       array([ 8.33333333, 10.25      , 16.66666667, 20.83333333, 15.83333333,\n",
       "              10.        , 16.66666667, 16.66666667, 16.66666667, 10.        ])],\n",
       "      dtype=object)"
      ]
     },
     "execution_count": 20,
     "metadata": {},
     "output_type": "execute_result"
    }
   ],
   "source": [
    "#transpose\n",
    "\n",
    "PT = p.transpose()\n",
    "PT"
   ]
  },
  {
   "cell_type": "code",
   "execution_count": null,
   "id": "71f23ea3",
   "metadata": {},
   "outputs": [],
   "source": []
  }
 ],
 "metadata": {
  "kernelspec": {
   "display_name": "Python 3 (ipykernel)",
   "language": "python",
   "name": "python3"
  },
  "language_info": {
   "codemirror_mode": {
    "name": "ipython",
    "version": 3
   },
   "file_extension": ".py",
   "mimetype": "text/x-python",
   "name": "python",
   "nbconvert_exporter": "python",
   "pygments_lexer": "ipython3",
   "version": "3.9.12"
  }
 },
 "nbformat": 4,
 "nbformat_minor": 5
}
